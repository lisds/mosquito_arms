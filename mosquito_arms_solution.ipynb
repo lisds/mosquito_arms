{
 "cells": [
  {
   "cell_type": "markdown",
   "id": "513b06a6",
   "metadata": {},
   "source": [
    "# Mosquito arms"
   ]
  },
  {
   "cell_type": "code",
   "execution_count": 1,
   "id": "20814682",
   "metadata": {
    "execution": {
     "iopub.execute_input": "2023-02-03T21:23:15.821928Z",
     "iopub.status.busy": "2023-02-03T21:23:15.821579Z",
     "iopub.status.idle": "2023-02-03T21:23:16.523067Z",
     "shell.execute_reply": "2023-02-03T21:23:16.522717Z"
    }
   },
   "outputs": [],
   "source": [
    "# Don't change this cell; just run it.\n",
    "import numpy as np  # The array library.\n",
    "# Make a random number generator.\n",
    "rng = np.random.default_rng()\n",
    "\n",
    "import pandas as pd\n",
    "# Safe setting for Pandas.\n",
    "pd.set_option('mode.copy_on_write', True)\n",
    "\n",
    "import matplotlib.pyplot as plt\n",
    "%matplotlib inline\n",
    "\n",
    "# The OKpy testing system.\n",
    "from client.api.notebook import Notebook\n",
    "ok = Notebook('mosquito_arms.ok')"
   ]
  },
  {
   "cell_type": "markdown",
   "id": "f06af29e",
   "metadata": {},
   "source": [
    "We are sure you remember the [mosquito / beer study](https://lisds.github.io/textbook/permutation/permutation_idea) with affection.\n",
    "\n",
    "As before, see [this\n",
    "page](https://github.com/matthew-brett/datasets/tree/master/mosquito_beer) for\n",
    "more details on the dataset.\n",
    "\n",
    "The paper describing the data is [Beer Consumption Increases Human\n",
    "Attractiveness to Malaria\n",
    "Mosquitoes](https://journals.plos.org/plosone/article?id=10.1371/journal.pone.0009546).\n",
    "\n",
    "Read in the data:"
   ]
  },
  {
   "cell_type": "code",
   "execution_count": 2,
   "id": "59492adb",
   "metadata": {
    "execution": {
     "iopub.execute_input": "2023-02-03T21:23:16.525456Z",
     "iopub.status.busy": "2023-02-03T21:23:16.525078Z",
     "iopub.status.idle": "2023-02-03T21:23:16.535858Z",
     "shell.execute_reply": "2023-02-03T21:23:16.535510Z"
    }
   },
   "outputs": [],
   "source": [
    "mosquitoes = pd.read_csv('mosquito_beer.csv')\n",
    "mosquitoes.head()"
   ]
  },
  {
   "cell_type": "markdown",
   "id": "3d93e35c",
   "metadata": {},
   "source": [
    "## The experiment\n",
    "\n",
    "The authors studied whether people who had drunk beer were more attractive to\n",
    "mosquitoes.\n",
    "\n",
    "We didn't go into details in the textbook page, but in fact the experimental\n",
    "setup was a little more complicated than we described.\n",
    "\n",
    "Here is the graphic from the paper:\n",
    "\n",
    "![](experimental_setup.png)\n",
    "\n",
    "For each trial, there were two tents.\n",
    "\n",
    "* One tent was empty (the *control* tent).\n",
    "* The other tent contained a person (the *volunteer* tent).\n",
    "* A tube led from each tent to a corresponding *trap* box. Thus, there was a\n",
    "  *control trap* box and a *volunteer trap* box.\n",
    "* A tube from each trap box fed into an arm of a Y connector.\n",
    "* The remaining, third arm of the Y led to a *downwind box* containing 50\n",
    "  mosquitoes.\n",
    "* At the beginning of the trial, the experimenters opened the *downwind box*\n",
    "  of mosquitoes, so the mosquitoes could fly out into the Y connector, and\n",
    "  thence, into either of the *trap* boxes.\n",
    "* The number of mosquitoes who flew into the *control trap* box gives the\n",
    "  values for the `no_odour` column.\n",
    "* The number of mosquitoes who flew into the *volunteer trap* box gives the\n",
    "  values for the `volunt_odour` column.\n",
    "* The total number of mosquitoes who flew into either the trap box gives\n",
    "  the values for the `activated` column.\n",
    "\n",
    "Each volunteer had two trials, one *before* they drank their allocated drink,\n",
    "and one *after* they drank their allocated drink.  The `test` columns records\n",
    "the trial type of each row.  The study allocated 25 volunteers to drink beer,\n",
    "and 18 volunteers to drink water.  The `group` column contains the allocation\n",
    "of the corresponding volunteer on each trial."
   ]
  },
  {
   "cell_type": "markdown",
   "id": "19e6ca57",
   "metadata": {},
   "source": [
    "## A check\n",
    "\n",
    "From what we have said above, you might assume that the mosquitoes who left\n",
    "their box (`activated` number) would always equal the number of who flew to\n",
    "the `no_odour` arm plus the number who flew to the `volunt_odour` arm.\n",
    "\n",
    "Check this by adding the values in `no_odour` to those in `volunt_odour`, then\n",
    "comparing them for equality, to the `activated` numbers.  Finally count the\n",
    "number of values where you got True for this comparison.  It should be the\n",
    "same as the number of rows in the data frame - if this relationship holds for\n",
    "all rows."
   ]
  },
  {
   "cell_type": "code",
   "execution_count": 3,
   "id": "9c53e205",
   "metadata": {
    "execution": {
     "iopub.execute_input": "2023-02-03T21:23:16.537872Z",
     "iopub.status.busy": "2023-02-03T21:23:16.537731Z",
     "iopub.status.idle": "2023-02-03T21:23:16.541003Z",
     "shell.execute_reply": "2023-02-03T21:23:16.540602Z"
    }
   },
   "outputs": [],
   "source": [
    "both = mosquitoes['no_odour'] + mosquitoes['volunt_odour']\n",
    "same = both == mosquitoes['activated']\n",
    "n_same = np.count_nonzero(same)\n",
    "# Show the result\n",
    "n_same"
   ]
  },
  {
   "cell_type": "code",
   "execution_count": 4,
   "id": "9e55e079",
   "metadata": {
    "execution": {
     "iopub.execute_input": "2023-02-03T21:23:16.542771Z",
     "iopub.status.busy": "2023-02-03T21:23:16.542655Z",
     "iopub.status.idle": "2023-02-03T21:23:16.558084Z",
     "shell.execute_reply": "2023-02-03T21:23:16.557711Z"
    }
   },
   "outputs": [],
   "source": [
    "_ = ok.grade('q_n_same')"
   ]
  },
  {
   "cell_type": "markdown",
   "id": "3729278c",
   "metadata": {},
   "source": [
    "## Another test for beer\n",
    "\n",
    "A comparison of interest to the authors was the difference between the number\n",
    "of mosquitoes that flew towards the volunteer and the number that flew towards\n",
    "the empty tent.\n",
    "\n",
    "In the next cell, first select the rows corresponding to the trials for\n",
    "volunteers after they had had their allocated drink.\n",
    "\n",
    "Next make a new column in the resulting new data frame. Call the column\n",
    "`volunt_diff`.  The column should have the result of the subtraction of\n",
    "the numbers in `no_odour` from those in `volunt_odour`."
   ]
  },
  {
   "cell_type": "code",
   "execution_count": 5,
   "id": "6f4418bd",
   "metadata": {
    "execution": {
     "iopub.execute_input": "2023-02-03T21:23:16.561771Z",
     "iopub.status.busy": "2023-02-03T21:23:16.561511Z",
     "iopub.status.idle": "2023-02-03T21:23:16.569192Z",
     "shell.execute_reply": "2023-02-03T21:23:16.568862Z"
    }
   },
   "outputs": [],
   "source": [
    "afters = mosquitoes[mosquitoes['test'] == 'after']\n",
    "afters['volunt_diff'] = afters['volunt_odour'] - afters['no_odour']\n",
    "# Show the first five rows.\n",
    "afters.head()"
   ]
  },
  {
   "cell_type": "code",
   "execution_count": 6,
   "id": "59f2b0ff",
   "metadata": {
    "execution": {
     "iopub.execute_input": "2023-02-03T21:23:16.570970Z",
     "iopub.status.busy": "2023-02-03T21:23:16.570822Z",
     "iopub.status.idle": "2023-02-03T21:23:16.580813Z",
     "shell.execute_reply": "2023-02-03T21:23:16.580453Z"
    }
   },
   "outputs": [],
   "source": [
    "_ = ok.grade('q_afters')"
   ]
  },
  {
   "cell_type": "markdown",
   "id": "5fea61c1",
   "metadata": {},
   "source": [
    "Make an array from the `volunt_diff` values for the rows corresponding to the\n",
    "`beer` drinkers and another for the rows corresponding to the water drinkers.\n",
    "Call these arrays `after_beer_vd` and `after_water_vd` respectively."
   ]
  },
  {
   "cell_type": "code",
   "execution_count": 7,
   "id": "3a66d3c5",
   "metadata": {
    "execution": {
     "iopub.execute_input": "2023-02-03T21:23:16.584086Z",
     "iopub.status.busy": "2023-02-03T21:23:16.583946Z",
     "iopub.status.idle": "2023-02-03T21:23:16.588218Z",
     "shell.execute_reply": "2023-02-03T21:23:16.587917Z"
    }
   },
   "outputs": [],
   "source": [
    "after_beer = afters[afters['group'] == 'beer']\n",
    "after_beer_vd = np.array(after_beer['volunt_diff'])\n",
    "after_water = afters[afters['group'] == 'water']\n",
    "after_water_vd = np.array(after_water['volunt_diff'])\n",
    "# Show the results\n",
    "print(after_beer_vd)\n",
    "print(after_water_vd)"
   ]
  },
  {
   "cell_type": "code",
   "execution_count": 8,
   "id": "cb264825",
   "metadata": {
    "execution": {
     "iopub.execute_input": "2023-02-03T21:23:16.590211Z",
     "iopub.status.busy": "2023-02-03T21:23:16.590082Z",
     "iopub.status.idle": "2023-02-03T21:23:16.599566Z",
     "shell.execute_reply": "2023-02-03T21:23:16.599226Z"
    }
   },
   "outputs": [],
   "source": [
    "_ = ok.grade('q_after_arrs')"
   ]
  },
  {
   "cell_type": "markdown",
   "id": "c37797c0",
   "metadata": {},
   "source": [
    "## More permutation\n",
    "\n",
    "Consider the mean difference between the differences:"
   ]
  },
  {
   "cell_type": "code",
   "execution_count": 9,
   "id": "95934399",
   "metadata": {
    "execution": {
     "iopub.execute_input": "2023-02-03T21:23:16.602751Z",
     "iopub.status.busy": "2023-02-03T21:23:16.602609Z",
     "iopub.status.idle": "2023-02-03T21:23:16.605473Z",
     "shell.execute_reply": "2023-02-03T21:23:16.605131Z"
    }
   },
   "outputs": [],
   "source": [
    "beer_mean = np.mean(after_beer_vd)\n",
    "water_mean = np.mean(after_water_vd)\n",
    "beer_water_diff = beer_mean - water_mean\n",
    "beer_water_diff"
   ]
  },
  {
   "cell_type": "markdown",
   "id": "30d71559",
   "metadata": {},
   "source": [
    "The number of beer values:"
   ]
  },
  {
   "cell_type": "code",
   "execution_count": 10,
   "id": "f5068411",
   "metadata": {
    "execution": {
     "iopub.execute_input": "2023-02-03T21:23:16.607266Z",
     "iopub.status.busy": "2023-02-03T21:23:16.607130Z",
     "iopub.status.idle": "2023-02-03T21:23:16.609440Z",
     "shell.execute_reply": "2023-02-03T21:23:16.609096Z"
    }
   },
   "outputs": [],
   "source": [
    "n_beer = len(after_beer_vd)\n",
    "n_beer"
   ]
  },
  {
   "cell_type": "markdown",
   "id": "de9d739b",
   "metadata": {},
   "source": [
    "The values, pooled into one array:"
   ]
  },
  {
   "cell_type": "code",
   "execution_count": 11,
   "id": "a7d65d3f",
   "metadata": {
    "execution": {
     "iopub.execute_input": "2023-02-03T21:23:16.611263Z",
     "iopub.status.busy": "2023-02-03T21:23:16.611128Z",
     "iopub.status.idle": "2023-02-03T21:23:16.613750Z",
     "shell.execute_reply": "2023-02-03T21:23:16.613436Z"
    }
   },
   "outputs": [],
   "source": [
    "# The values, pooled.\n",
    "pooled = np.concatenate([after_beer_vd, after_water_vd])\n",
    "pooled"
   ]
  },
  {
   "cell_type": "markdown",
   "id": "dd5ccc06",
   "metadata": {},
   "source": [
    "Your job is to do a *permutation* test, to see whether this observed mean\n",
    "difference is plausible in an ideal (null) world, where there is no real\n",
    "difference between the groups, and any observed difference is just due to\n",
    "random sampling.\n",
    "\n",
    "We simulate samples from such an ideal world by shuffling the 16 values\n",
    "randomly, allocating 25 shuffled values to a fake Beer group, and the rest to \n",
    "fake Water group, and calculating the mean difference for these fake groups.\n",
    "We do this many times to build up the *sampling distribution* of these fake\n",
    "differences.\n",
    "\n",
    "To do this job, you may want to remind yourself of the [permutation idea](https://lisds.github.io/textbook/permutation/permutation_idea.html) notebook in the textbook.\n",
    "\n",
    "You may well want to start with a cell that does one trial where you:\n",
    "\n",
    "* shuffle the pooled values.\n",
    "* split them into two groups of 25 and 18.\n",
    "* calculate the difference in means."
   ]
  },
  {
   "cell_type": "code",
   "execution_count": 12,
   "id": "95706c2d",
   "metadata": {
    "execution": {
     "iopub.execute_input": "2023-02-03T21:23:16.615491Z",
     "iopub.status.busy": "2023-02-03T21:23:16.615352Z",
     "iopub.status.idle": "2023-02-03T21:23:16.619040Z",
     "shell.execute_reply": "2023-02-03T21:23:16.618713Z"
    }
   },
   "outputs": [],
   "source": [
    "#- You may want to simulate a single trial here.\n",
    "shuffled = rng.permutation(pooled)\n",
    "fake_diff = np.mean(shuffled[:n_beer]) - np.mean(shuffled[n_beer:])\n",
    "fake_diff"
   ]
  },
  {
   "cell_type": "markdown",
   "id": "30b2aa1d",
   "metadata": {},
   "source": [
    "Then finish up the cell below to build your sampling distribution, storing the values in the array `fake_diffs`."
   ]
  },
  {
   "cell_type": "code",
   "execution_count": 13,
   "id": "34ac1b9f",
   "metadata": {
    "execution": {
     "iopub.execute_input": "2023-02-03T21:23:16.620778Z",
     "iopub.status.busy": "2023-02-03T21:23:16.620639Z",
     "iopub.status.idle": "2023-02-03T21:23:16.730334Z",
     "shell.execute_reply": "2023-02-03T21:23:16.729999Z"
    }
   },
   "outputs": [],
   "source": [
    "# Build up the sampling distribution from the ideal (null) world.\n",
    "n_iters = 10000\n",
    "fake_diffs = np.zeros(n_iters)\n",
    "for i in np.arange(n_iters):\n",
    "    shuffled = rng.permutation(pooled)\n",
    "    fake_diffs[i] = np.mean(shuffled[:n_beer]) - np.mean(shuffled[n_beer:])\n",
    "# Show the first 10 values.\n",
    "fake_diffs[:10]"
   ]
  },
  {
   "cell_type": "code",
   "execution_count": 14,
   "id": "a74a2dc7",
   "metadata": {
    "execution": {
     "iopub.execute_input": "2023-02-03T21:23:16.732115Z",
     "iopub.status.busy": "2023-02-03T21:23:16.731975Z",
     "iopub.status.idle": "2023-02-03T21:23:16.741835Z",
     "shell.execute_reply": "2023-02-03T21:23:16.741467Z"
    }
   },
   "outputs": [],
   "source": [
    "_ = ok.grade('q_fake_diffs')"
   ]
  },
  {
   "cell_type": "markdown",
   "id": "95dba85a",
   "metadata": {},
   "source": [
    "You might also like to review the histogram of these values, to compare by eye to the value in the real world, `beer_water_diff`."
   ]
  },
  {
   "cell_type": "code",
   "execution_count": 15,
   "id": "6bf3e5a3",
   "metadata": {
    "execution": {
     "iopub.execute_input": "2023-02-03T21:23:16.745153Z",
     "iopub.status.busy": "2023-02-03T21:23:16.745013Z",
     "iopub.status.idle": "2023-02-03T21:23:16.836046Z",
     "shell.execute_reply": "2023-02-03T21:23:16.835679Z"
    }
   },
   "outputs": [],
   "source": [
    "#- Do a histogram of the sampling distribution here.\n",
    "plt.hist(fake_diffs)"
   ]
  },
  {
   "cell_type": "markdown",
   "id": "8d572a15",
   "metadata": {},
   "source": [
    "Calculate the proportion of the sampling distribution values that are greater than or equal to the observed difference in means."
   ]
  },
  {
   "cell_type": "code",
   "execution_count": 16,
   "id": "a6a43029",
   "metadata": {
    "execution": {
     "iopub.execute_input": "2023-02-03T21:23:16.838056Z",
     "iopub.status.busy": "2023-02-03T21:23:16.837902Z",
     "iopub.status.idle": "2023-02-03T21:23:16.840626Z",
     "shell.execute_reply": "2023-02-03T21:23:16.840299Z"
    }
   },
   "outputs": [],
   "source": [
    "prop_ge = np.count_nonzero(fake_diffs >= beer_water_diff) / n_iters\n",
    "# Show the proportion.\n",
    "prop_ge"
   ]
  },
  {
   "cell_type": "code",
   "execution_count": 17,
   "id": "95f05d3f",
   "metadata": {
    "execution": {
     "iopub.execute_input": "2023-02-03T21:23:16.842438Z",
     "iopub.status.busy": "2023-02-03T21:23:16.842294Z",
     "iopub.status.idle": "2023-02-03T21:23:16.851607Z",
     "shell.execute_reply": "2023-02-03T21:23:16.851155Z"
    }
   },
   "outputs": [],
   "source": [
    "_ = ok.grade('q_prop_ge')"
   ]
  },
  {
   "cell_type": "markdown",
   "id": "6aac0287",
   "metadata": {},
   "source": [
    "## Done.\n",
    "\n",
    "Congratulations, you're done with the assignment!  Be sure to:\n",
    "\n",
    "- **run all the tests** (the next cell has a shortcut for that).\n",
    "- **Save and Checkpoint** from the `File` menu."
   ]
  },
  {
   "cell_type": "code",
   "execution_count": 18,
   "id": "fb5dc915",
   "metadata": {
    "execution": {
     "iopub.execute_input": "2023-02-03T21:23:16.855277Z",
     "iopub.status.busy": "2023-02-03T21:23:16.855131Z",
     "iopub.status.idle": "2023-02-03T21:23:16.898084Z",
     "shell.execute_reply": "2023-02-03T21:23:16.897712Z"
    }
   },
   "outputs": [],
   "source": [
    "# For your convenience, you can run this cell to run all the tests at once!\n",
    "import os\n",
    "_ = [ok.grade(q[:-3]) for q in os.listdir(\"tests\") if q.startswith('q')]"
   ]
  }
 ],
 "metadata": {
  "jupytext": {
   "notebook_metadata_filter": "all,-language_info",
   "split_at_heading": true,
   "text_representation": {
    "extension": ".Rmd",
    "format_name": "rmarkdown",
    "format_version": "1.1",
    "jupytext_version": "1.2.4"
   }
  },
  "kernelspec": {
   "display_name": "Python 3",
   "language": "python",
   "name": "python3"
  },
  "language_info": {
   "codemirror_mode": {
    "name": "ipython",
    "version": 3
   },
   "file_extension": ".py",
   "mimetype": "text/x-python",
   "name": "python",
   "nbconvert_exporter": "python",
   "pygments_lexer": "ipython3",
   "version": "3.10.9"
  }
 },
 "nbformat": 4,
 "nbformat_minor": 5
}
